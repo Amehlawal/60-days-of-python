{
 "cells": [
  {
   "cell_type": "code",
   "execution_count": null,
   "id": "7a869344",
   "metadata": {},
   "outputs": [],
   "source": [
    "#Get all keywords in python 3.\n",
    "\n",
    "import keyword\n",
    "\n",
    "print(keyword.kwlist)\n",
    "\n",
    "print(len(keyword.kwlist))"
   ]
  },
  {
   "cell_type": "code",
   "execution_count": null,
   "id": "12c3d930",
   "metadata": {},
   "outputs": [],
   "source": [
    "#Correct use of keywords\n",
    "#Keywords are shown by the dark green color\n",
    "\n",
    "import math\n",
    "\n",
    "from math import gcd\n",
    "\n",
    "for i in range(1, 13):\n",
    "    if i == 2:\n",
    "        print('holla')\n",
    "    elif i== 4:\n",
    "        print('word in the street')\n",
    "    else:\n",
    "        break\n",
    "\n",
    "logger=[1,2,3]\n",
    "del logger[2]"
   ]
  },
  {
   "cell_type": "code",
   "execution_count": null,
   "id": "80fec8bb",
   "metadata": {},
   "outputs": [],
   "source": [
    "#Incorrect use of keywords\n",
    "\n",
    "None = 'sole'\n",
    "\n",
    "True = 50\n",
    "\n",
    "and = 'musa'\n",
    "\n",
    "finally = 8\n",
    "\n",
    "while = 'user'"
   ]
  },
  {
   "cell_type": "code",
   "execution_count": null,
   "id": "986fe0a3",
   "metadata": {},
   "outputs": [],
   "source": [
    "#Insert 6 in to the list\n",
    "\n",
    "s= {1,2,3,4,5}\n",
    "s.add(6)"
   ]
  },
  {
   "cell_type": "code",
   "execution_count": null,
   "id": "2dfd2cae",
   "metadata": {},
   "outputs": [],
   "source": [
    "s"
   ]
  },
  {
   "cell_type": "code",
   "execution_count": null,
   "id": "263a6b7f",
   "metadata": {},
   "outputs": [],
   "source": [
    "#get 'Temi'\n",
    "\n",
    "n={'N1':{'firstname':['Tity','Kola','Temi', 'Gbenga']}}\n",
    "\n",
    "n['N1']['firstname'][2]"
   ]
  },
  {
   "cell_type": "code",
   "execution_count": null,
   "id": "843aa227",
   "metadata": {},
   "outputs": [],
   "source": [
    "#Write a program that prints 'access granted' if password is 'fish' and 'access denied' if it is not"
   ]
  },
  {
   "cell_type": "code",
   "execution_count": null,
   "id": "4c824135",
   "metadata": {},
   "outputs": [],
   "source": [
    "password = 'holla'\n",
    "\n",
    "if password == 'fish':\n",
    "    print('access granted')\n",
    "else:\n",
    "    print('access denied')"
   ]
  },
  {
   "cell_type": "markdown",
   "id": "19679d23",
   "metadata": {},
   "source": [
    "# crash course"
   ]
  },
  {
   "cell_type": "code",
   "execution_count": 3,
   "id": "7caf1e9c",
   "metadata": {},
   "outputs": [
    {
     "data": {
      "text/plain": [
       "0"
      ]
     },
     "execution_count": 3,
     "metadata": {},
     "output_type": "execute_result"
    }
   ],
   "source": [
    "8%2"
   ]
  },
  {
   "cell_type": "code",
   "execution_count": 4,
   "id": "5c9e22c6",
   "metadata": {},
   "outputs": [],
   "source": [
    "x = 4\n",
    "y = 2"
   ]
  },
  {
   "cell_type": "code",
   "execution_count": 5,
   "id": "907ffbde",
   "metadata": {},
   "outputs": [
    {
     "data": {
      "text/plain": [
       "6"
      ]
     },
     "execution_count": 5,
     "metadata": {},
     "output_type": "execute_result"
    }
   ],
   "source": [
    "x+y"
   ]
  },
  {
   "cell_type": "code",
   "execution_count": 2,
   "id": "a4ae16ba",
   "metadata": {},
   "outputs": [
    {
     "name": "stdout",
     "output_type": "stream",
     "text": [
      "my number is 12 and my name is Lawal\n"
     ]
    }
   ],
   "source": [
    "num = 12\n",
    "name = 'Lawal'\n",
    "\n",
    "print('my number is {} and my name is {}'.format(num, name))"
   ]
  },
  {
   "cell_type": "code",
   "execution_count": 4,
   "id": "c047359e",
   "metadata": {},
   "outputs": [
    {
     "name": "stdout",
     "output_type": "stream",
     "text": [
      "My number is 12, my friends number is 12, what is the sum of our number12\n"
     ]
    }
   ],
   "source": [
    "\n",
    "print('My number is {one}, my friends number is {tu}, what is the sum of our number{tu}'.format(one=num, tu=num))"
   ]
  },
  {
   "cell_type": "code",
   "execution_count": 20,
   "id": "920aef44",
   "metadata": {},
   "outputs": [],
   "source": [
    "s = 'abcefghijk'"
   ]
  },
  {
   "cell_type": "code",
   "execution_count": 21,
   "id": "75c31d78",
   "metadata": {},
   "outputs": [
    {
     "data": {
      "text/plain": [
       "'efgh'"
      ]
     },
     "execution_count": 21,
     "metadata": {},
     "output_type": "execute_result"
    }
   ],
   "source": [
    "s[3:7]"
   ]
  },
  {
   "cell_type": "code",
   "execution_count": 23,
   "id": "8ea1d66a",
   "metadata": {},
   "outputs": [],
   "source": [
    "my_list =[1,'a','b']"
   ]
  },
  {
   "cell_type": "code",
   "execution_count": 24,
   "id": "fe6001a2",
   "metadata": {},
   "outputs": [
    {
     "data": {
      "text/plain": [
       "'b'"
      ]
     },
     "execution_count": 24,
     "metadata": {},
     "output_type": "execute_result"
    }
   ],
   "source": [
    "my_list[2]"
   ]
  },
  {
   "cell_type": "code",
   "execution_count": 25,
   "id": "d323bf6b",
   "metadata": {},
   "outputs": [],
   "source": [
    "nest =[1,2,3,4,[4,5,['taget']]]"
   ]
  },
  {
   "cell_type": "code",
   "execution_count": 32,
   "id": "cea9245b",
   "metadata": {},
   "outputs": [
    {
     "ename": "IndexError",
     "evalue": "list index out of range",
     "output_type": "error",
     "traceback": [
      "\u001b[0;31m---------------------------------------------------------------------------\u001b[0m",
      "\u001b[0;31mIndexError\u001b[0m                                Traceback (most recent call last)",
      "\u001b[0;32m/tmp/ipykernel_5272/2752874226.py\u001b[0m in \u001b[0;36m<module>\u001b[0;34m\u001b[0m\n\u001b[0;32m----> 1\u001b[0;31m \u001b[0mnest\u001b[0m\u001b[0;34m[\u001b[0m\u001b[0;36m4\u001b[0m\u001b[0;34m]\u001b[0m\u001b[0;34m[\u001b[0m\u001b[0;36m2\u001b[0m\u001b[0;34m]\u001b[0m\u001b[0;34m[\u001b[0m\u001b[0;36m1\u001b[0m\u001b[0;34m]\u001b[0m\u001b[0;34m\u001b[0m\u001b[0;34m\u001b[0m\u001b[0m\n\u001b[0m",
      "\u001b[0;31mIndexError\u001b[0m: list index out of range"
     ]
    }
   ],
   "source": [
    "nest[4][2][1]"
   ]
  },
  {
   "cell_type": "markdown",
   "id": "819a866b",
   "metadata": {},
   "source": [
    "# crash course "
   ]
  },
  {
   "cell_type": "code",
   "execution_count": 39,
   "id": "3fc8e6df",
   "metadata": {},
   "outputs": [],
   "source": [
    "dict ={'key':'value','key1':'sorry','k3':[1,2,3]}"
   ]
  },
  {
   "cell_type": "code",
   "execution_count": 43,
   "id": "6313280f",
   "metadata": {},
   "outputs": [
    {
     "data": {
      "text/plain": [
       "1"
      ]
     },
     "execution_count": 43,
     "metadata": {},
     "output_type": "execute_result"
    }
   ],
   "source": [
    "dict['key']; dict['k3'][0]"
   ]
  },
  {
   "cell_type": "code",
   "execution_count": 46,
   "id": "dc1d8a29",
   "metadata": {},
   "outputs": [
    {
     "data": {
      "text/plain": [
       "[1, 2, 3]"
      ]
     },
     "execution_count": 46,
     "metadata": {},
     "output_type": "execute_result"
    }
   ],
   "source": [
    "d = {'k':{'inner':[1,2,3,]}}\n",
    "d['k']['inner']"
   ]
  },
  {
   "cell_type": "code",
   "execution_count": 47,
   "id": "88ae6541",
   "metadata": {},
   "outputs": [],
   "source": [
    "y = {1,2,3,4,5,2,2,3,4}"
   ]
  },
  {
   "cell_type": "code",
   "execution_count": 49,
   "id": "0682bd10",
   "metadata": {},
   "outputs": [],
   "source": [
    "y.add(6)"
   ]
  },
  {
   "cell_type": "code",
   "execution_count": 50,
   "id": "751e7712",
   "metadata": {},
   "outputs": [
    {
     "data": {
      "text/plain": [
       "{1, 2, 3, 4, 5, 6}"
      ]
     },
     "execution_count": 50,
     "metadata": {},
     "output_type": "execute_result"
    }
   ],
   "source": [
    "y"
   ]
  },
  {
   "cell_type": "code",
   "execution_count": 54,
   "id": "10f6147d",
   "metadata": {},
   "outputs": [
    {
     "data": {
      "text/plain": [
       "False"
      ]
     },
     "execution_count": 54,
     "metadata": {},
     "output_type": "execute_result"
    }
   ],
   "source": [
    "1==2"
   ]
  },
  {
   "cell_type": "code",
   "execution_count": 56,
   "id": "975806d8",
   "metadata": {},
   "outputs": [
    {
     "data": {
      "text/plain": [
       "False"
      ]
     },
     "execution_count": 56,
     "metadata": {},
     "output_type": "execute_result"
    }
   ],
   "source": [
    "'h1'=='bye'"
   ]
  },
  {
   "cell_type": "code",
   "execution_count": 57,
   "id": "c396c2c4",
   "metadata": {},
   "outputs": [
    {
     "data": {
      "text/plain": [
       "True"
      ]
     },
     "execution_count": 57,
     "metadata": {},
     "output_type": "execute_result"
    }
   ],
   "source": [
    "1<2 and 2>1"
   ]
  },
  {
   "cell_type": "code",
   "execution_count": 58,
   "id": "cc1f12f9",
   "metadata": {},
   "outputs": [
    {
     "name": "stdout",
     "output_type": "stream",
     "text": [
      "yep\n"
     ]
    }
   ],
   "source": [
    "if 1<2:\n",
    "    print('yep')"
   ]
  },
  {
   "cell_type": "code",
   "execution_count": 60,
   "id": "b06a3eed",
   "metadata": {},
   "outputs": [
    {
     "name": "stdout",
     "output_type": "stream",
     "text": [
      "three\n"
     ]
    }
   ],
   "source": [
    "if 1==2:\n",
    "    print('one')\n",
    "elif 3 ==3:\n",
    "    print('three')\n",
    "else:\n",
    "    print('two')"
   ]
  },
  {
   "cell_type": "markdown",
   "id": "0f0c5139",
   "metadata": {},
   "source": [
    "## crash course 3"
   ]
  },
  {
   "cell_type": "code",
   "execution_count": 64,
   "id": "f0a2e2a3",
   "metadata": {},
   "outputs": [
    {
     "name": "stdout",
     "output_type": "stream",
     "text": [
      "hello\n",
      "hello\n",
      "hello\n",
      "hello\n"
     ]
    }
   ],
   "source": [
    "seq = [1,2,3,4]\n",
    "\n",
    "for num in seq:\n",
    "    print('hello')"
   ]
  },
  {
   "cell_type": "code",
   "execution_count": 63,
   "id": "f6ced915",
   "metadata": {},
   "outputs": [
    {
     "name": "stdout",
     "output_type": "stream",
     "text": [
      "i is:  1\n",
      "i is:  2\n",
      "i is:  3\n",
      "i is:  4\n"
     ]
    }
   ],
   "source": [
    "i = 1\n",
    "\n",
    "while i < 5:\n",
    "    print('i is: ', i)\n",
    "    i= i+1"
   ]
  },
  {
   "cell_type": "code",
   "execution_count": null,
   "id": "0318b291",
   "metadata": {},
   "outputs": [],
   "source": [
    "for x in range(0, 5):\n",
    "    print(x)"
   ]
  },
  {
   "cell_type": "code",
   "execution_count": null,
   "id": "118c71ba",
   "metadata": {},
   "outputs": [],
   "source": [
    "list(range(10))"
   ]
  },
  {
   "cell_type": "code",
   "execution_count": null,
   "id": "e406d3bf",
   "metadata": {},
   "outputs": [],
   "source": [
    "y = list(range(5))"
   ]
  },
  {
   "cell_type": "code",
   "execution_count": null,
   "id": "c71be8ea",
   "metadata": {},
   "outputs": [],
   "source": [
    "out = []\n",
    "\n",
    "for num in y:\n",
    "    out.append(num**2)\n",
    "print(out)"
   ]
  },
  {
   "cell_type": "code",
   "execution_count": null,
   "id": "2f9b6c2d",
   "metadata": {},
   "outputs": [],
   "source": [
    "out = [num**2 for num in y]\n",
    "out"
   ]
  },
  {
   "cell_type": "code",
   "execution_count": null,
   "id": "becf584e",
   "metadata": {},
   "outputs": [],
   "source": [
    "def myfunc(param1):\n",
    "    print('Hello '+param1)"
   ]
  },
  {
   "cell_type": "code",
   "execution_count": null,
   "id": "246ffca3",
   "metadata": {},
   "outputs": [],
   "source": [
    "myfunc('hello')"
   ]
  },
  {
   "cell_type": "code",
   "execution_count": 65,
   "id": "5a643d8f",
   "metadata": {},
   "outputs": [],
   "source": [
    "def square(num):\n",
    "    return num**2"
   ]
  },
  {
   "cell_type": "code",
   "execution_count": 66,
   "id": "dee30b0b",
   "metadata": {},
   "outputs": [],
   "source": [
    "output = square(3)"
   ]
  },
  {
   "cell_type": "code",
   "execution_count": null,
   "id": "15924953",
   "metadata": {},
   "outputs": [],
   "source": [
    "square"
   ]
  },
  {
   "cell_type": "markdown",
   "id": "2e130c8d",
   "metadata": {},
   "source": [
    "# crash course 4"
   ]
  },
  {
   "cell_type": "code",
   "execution_count": 1,
   "id": "1d588b12",
   "metadata": {},
   "outputs": [],
   "source": [
    "def times2(var):\n",
    "    return var*2\n",
    "\n"
   ]
  },
  {
   "cell_type": "code",
   "execution_count": 2,
   "id": "4ae109b2",
   "metadata": {},
   "outputs": [],
   "source": [
    "def times2(var):return var*2"
   ]
  },
  {
   "cell_type": "code",
   "execution_count": 3,
   "id": "5dc4e078",
   "metadata": {},
   "outputs": [
    {
     "data": {
      "text/plain": [
       "20"
      ]
     },
     "execution_count": 3,
     "metadata": {},
     "output_type": "execute_result"
    }
   ],
   "source": [
    "times2(10)"
   ]
  },
  {
   "cell_type": "code",
   "execution_count": 5,
   "id": "22930320",
   "metadata": {},
   "outputs": [],
   "source": [
    "#map\n",
    "\n",
    "seq = [1,2,3,4,5,6]"
   ]
  },
  {
   "cell_type": "code",
   "execution_count": null,
   "id": "149f2632",
   "metadata": {},
   "outputs": [],
   "source": [
    "list(map(times2, seq))"
   ]
  },
  {
   "cell_type": "code",
   "execution_count": null,
   "id": "7610126b",
   "metadata": {},
   "outputs": [],
   "source": [
    "list(map(lambda var: var ** 2, seq))"
   ]
  },
  {
   "cell_type": "code",
   "execution_count": null,
   "id": "ad6cd455",
   "metadata": {},
   "outputs": [],
   "source": [
    "list(filter(lambda num: num%2 == 0, seq))"
   ]
  },
  {
   "cell_type": "code",
   "execution_count": null,
   "id": "8158d4b4",
   "metadata": {},
   "outputs": [],
   "source": [
    "s = 'hello my name is lawal'"
   ]
  },
  {
   "cell_type": "code",
   "execution_count": null,
   "id": "39b25bf1",
   "metadata": {},
   "outputs": [],
   "source": [
    "s.split('n')"
   ]
  },
  {
   "cell_type": "code",
   "execution_count": null,
   "id": "3c9937bf",
   "metadata": {},
   "outputs": [],
   "source": [
    "lst = [1,2,3,4,]\n",
    "\n",
    "item = lst.pop()"
   ]
  },
  {
   "cell_type": "code",
   "execution_count": null,
   "id": "95c861b4",
   "metadata": {},
   "outputs": [],
   "source": [
    "item"
   ]
  },
  {
   "cell_type": "code",
   "execution_count": null,
   "id": "1c3b8ac2",
   "metadata": {},
   "outputs": [],
   "source": [
    "lst"
   ]
  },
  {
   "cell_type": "code",
   "execution_count": null,
   "id": "073e0f02",
   "metadata": {},
   "outputs": [],
   "source": [
    "'x' in [1,2,3]"
   ]
  },
  {
   "cell_type": "code",
   "execution_count": null,
   "id": "660dac53",
   "metadata": {},
   "outputs": [],
   "source": [
    "x = [(1,2),(3,4)]\n",
    "for a,b in x:\n",
    "    print(a)"
   ]
  },
  {
   "cell_type": "code",
   "execution_count": 7,
   "id": "d6a41c9c",
   "metadata": {},
   "outputs": [],
   "source": [
    "tweet = 'go sports #sports'"
   ]
  },
  {
   "cell_type": "code",
   "execution_count": 9,
   "id": "ff6d1889",
   "metadata": {},
   "outputs": [
    {
     "data": {
      "text/plain": [
       "'go sports '"
      ]
     },
     "execution_count": 9,
     "metadata": {},
     "output_type": "execute_result"
    }
   ],
   "source": [
    "tweet.split('#')[0]"
   ]
  },
  {
   "cell_type": "markdown",
   "id": "0f0f4f1b",
   "metadata": {},
   "source": [
    "# Python crash course exercises"
   ]
  },
  {
   "cell_type": "code",
   "execution_count": 10,
   "id": "df4bff26",
   "metadata": {},
   "outputs": [
    {
     "data": {
      "text/plain": [
       "2401"
      ]
     },
     "execution_count": 10,
     "metadata": {},
     "output_type": "execute_result"
    }
   ],
   "source": [
    "# what is 7 to the power of 4\n",
    "7**4"
   ]
  },
  {
   "cell_type": "code",
   "execution_count": 11,
   "id": "9d63e8a6",
   "metadata": {},
   "outputs": [
    {
     "data": {
      "text/plain": [
       "['Hi', 'there', 'Sam!']"
      ]
     },
     "execution_count": 11,
     "metadata": {},
     "output_type": "execute_result"
    }
   ],
   "source": [
    "#split this string s= 'Hi there Sam!' into a list\n",
    "\n",
    "s = \"Hi there Sam!\"\n",
    "s.split()"
   ]
  },
  {
   "cell_type": "code",
   "execution_count": 30,
   "id": "f899c856",
   "metadata": {},
   "outputs": [
    {
     "name": "stdout",
     "output_type": "stream",
     "text": [
      "The diameter of Earth is 12742 kilometers\n"
     ]
    }
   ],
   "source": [
    "# with the variable planet and diameter print\n",
    "planet = 'Earth'\n",
    "diameter = 12742\n",
    "\n",
    "print('The diameter of {} is {} kilometers'.format(planet, diameter))"
   ]
  },
  {
   "cell_type": "code",
   "execution_count": 36,
   "id": "5377b3bd",
   "metadata": {},
   "outputs": [
    {
     "data": {
      "text/plain": [
       "['hello']"
      ]
     },
     "execution_count": 36,
     "metadata": {},
     "output_type": "execute_result"
    }
   ],
   "source": [
    "# grab the word hello\n",
    "\n",
    "lst =[1,2,[3,4],[5,[100,200,['hello']],23,11],1,7]\n",
    "\n",
    "lst[3][1][2]"
   ]
  },
  {
   "cell_type": "code",
   "execution_count": 23,
   "id": "7e319ef8",
   "metadata": {},
   "outputs": [
    {
     "data": {
      "text/plain": [
       "'hello'"
      ]
     },
     "execution_count": 23,
     "metadata": {},
     "output_type": "execute_result"
    }
   ],
   "source": [
    "#grab hello from this dictionary\n",
    "d = {'k1':[1,2,3,{'tricky':['oh','man','inception',{'target':[1,2,3,'hello']}]}]}\n",
    "d['k1'][3]['tricky'][3]['target'][3]"
   ]
  },
  {
   "cell_type": "code",
   "execution_count": 24,
   "id": "b6ec9723",
   "metadata": {},
   "outputs": [],
   "source": [
    "# what is the difference btw a tuple and a list"
   ]
  },
  {
   "cell_type": "code",
   "execution_count": 37,
   "id": "9bb48125",
   "metadata": {},
   "outputs": [
    {
     "data": {
      "text/plain": [
       "'domain.com'"
      ]
     },
     "execution_count": 37,
     "metadata": {},
     "output_type": "execute_result"
    }
   ],
   "source": [
    "#create a function tha grabs the email website domain from a string in the form user@domain.com.... and return domain.com\n",
    "\n",
    "def domainGet(email):\n",
    "    if 'domain.com' in email:\n",
    "        return 'domain.com'\n",
    "\n",
    "domainGet('user@domain.com')"
   ]
  },
  {
   "cell_type": "code",
   "execution_count": 25,
   "id": "749d5310",
   "metadata": {},
   "outputs": [
    {
     "data": {
      "text/plain": [
       "True"
      ]
     },
     "execution_count": 25,
     "metadata": {},
     "output_type": "execute_result"
    }
   ],
   "source": [
    "# function that returns true if word dog is contained\n",
    "\n",
    "def findDog(var):\n",
    "    if 'dog' in var:\n",
    "        return True\n",
    "\n",
    "findDog('is there a dog here')"
   ]
  },
  {
   "cell_type": "code",
   "execution_count": null,
   "id": "1c322e3b",
   "metadata": {},
   "outputs": [],
   "source": [
    "# function that counts the number of times dog appears\n",
    "\n",
    "def countDog(var):\n",
    "    "
   ]
  },
  {
   "cell_type": "code",
   "execution_count": 27,
   "id": "fb754f89",
   "metadata": {},
   "outputs": [
    {
     "data": {
      "text/plain": [
       "['soup', 'salad']"
      ]
     },
     "execution_count": 27,
     "metadata": {},
     "output_type": "execute_result"
    }
   ],
   "source": [
    "#use lambda and filter to filter words that dont start with s\n",
    "\n",
    "seq= ['soup','salad','dog','cat','great']\n",
    "list(filter(lambda var:'s'in var, seq))"
   ]
  },
  {
   "cell_type": "markdown",
   "id": "fb720795",
   "metadata": {},
   "source": [
    "# xtras"
   ]
  },
  {
   "cell_type": "code",
   "execution_count": 38,
   "id": "831796b2",
   "metadata": {},
   "outputs": [
    {
     "name": "stdout",
     "output_type": "stream",
     "text": [
      "hoe is 22 years old.\n"
     ]
    }
   ],
   "source": [
    "name = 'hoe'\n",
    "age = 22\n",
    "print('%s is %d years old.' % (name, age))"
   ]
  },
  {
   "cell_type": "code",
   "execution_count": 39,
   "id": "5827b63d",
   "metadata": {},
   "outputs": [
    {
     "name": "stdout",
     "output_type": "stream",
     "text": [
      "True\n"
     ]
    }
   ],
   "source": [
    "print(name.startswith('h'))"
   ]
  }
 ],
 "metadata": {
  "kernelspec": {
   "display_name": "Python 3 (ipykernel)",
   "language": "python",
   "name": "python3"
  },
  "language_info": {
   "codemirror_mode": {
    "name": "ipython",
    "version": 3
   },
   "file_extension": ".py",
   "mimetype": "text/x-python",
   "name": "python",
   "nbconvert_exporter": "python",
   "pygments_lexer": "ipython3",
   "version": "3.9.13"
  }
 },
 "nbformat": 4,
 "nbformat_minor": 5
}
