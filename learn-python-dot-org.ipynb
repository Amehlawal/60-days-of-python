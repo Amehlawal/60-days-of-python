{
 "cells": [
  {
   "cell_type": "markdown",
   "id": "d993fe02",
   "metadata": {},
   "source": [
    "# More-learning from learnpython.org"
   ]
  },
  {
   "cell_type": "code",
   "execution_count": 1,
   "id": "04510cde",
   "metadata": {},
   "outputs": [
    {
     "data": {
      "text/plain": [
       "'blah'"
      ]
     },
     "execution_count": 1,
     "metadata": {},
     "output_type": "execute_result"
    }
   ],
   "source": [
    "class MyClass:\n",
    "    variable ='blah'\n",
    "    \n",
    "    def function(self):\n",
    "        print('this is a message inside the class')\n",
    "    \n",
    "myobjectx = MyClass()\n",
    "myobjectx.variable"
   ]
  },
  {
   "cell_type": "code",
   "execution_count": 2,
   "id": "9dcf73ce",
   "metadata": {},
   "outputs": [
    {
     "name": "stdout",
     "output_type": "stream",
     "text": [
      "blah\n",
      "yackity\n"
     ]
    }
   ],
   "source": [
    "myobjecty = MyClass()\n",
    "myobjecty.variable = 'yackity'\n",
    "\n",
    "print(myobjectx.variable); print(myobjecty.variable)"
   ]
  },
  {
   "cell_type": "code",
   "execution_count": 3,
   "id": "249ca16b",
   "metadata": {},
   "outputs": [
    {
     "name": "stdout",
     "output_type": "stream",
     "text": [
      "this is a message inside the class\n"
     ]
    }
   ],
   "source": [
    "myobjectx.function()"
   ]
  },
  {
   "cell_type": "code",
   "execution_count": 4,
   "id": "a7531c1d",
   "metadata": {},
   "outputs": [],
   "source": [
    "class NumberHolder:\n",
    "    \n",
    "    def __init__(self, number):\n",
    "        self.number = number\n",
    "        \n",
    "    def returnNumber(self):\n",
    "        return self.number\n",
    "\n"
   ]
  },
  {
   "cell_type": "code",
   "execution_count": 5,
   "id": "3d8ed215",
   "metadata": {},
   "outputs": [
    {
     "name": "stdout",
     "output_type": "stream",
     "text": [
      "7\n"
     ]
    }
   ],
   "source": [
    "var = NumberHolder(7)\n",
    "print(var.returnNumber())"
   ]
  },
  {
   "cell_type": "code",
   "execution_count": 6,
   "id": "26645edf",
   "metadata": {},
   "outputs": [
    {
     "name": "stdout",
     "output_type": "stream",
     "text": [
      "Fer is a red convertible worth $60000.2f.\n",
      "Jump is a blue van worth $100.0.2f.\n"
     ]
    }
   ],
   "source": [
    "# exercise\n",
    "\n",
    "class Vehicle:\n",
    "    name = \"\"\n",
    "    kind = \"car\"\n",
    "    color = \"\"\n",
    "    value = 100.00\n",
    "    \n",
    "    def description(self):\n",
    "        desc_str = '{} is a {} {} worth ${}.2f.'.format(self.name, self.color, self.kind, self.value)\n",
    "        return desc_str\n",
    "    \n",
    "car1 = Vehicle()\n",
    "car1.name = 'Fer'\n",
    "car1.color = 'red'\n",
    "car1.value = 60000\n",
    "car1.kind = 'convertible'\n",
    "\n",
    "car2 = Vehicle()\n",
    "car2.name = 'Jump'\n",
    "car2.color = 'blue'\n",
    "car2.kind = 'van'\n",
    "car2.valure = 10000\n",
    "\n",
    "print(car1.description())\n",
    "print(car2.description())"
   ]
  },
  {
   "cell_type": "code",
   "execution_count": 7,
   "id": "fb80a929",
   "metadata": {},
   "outputs": [
    {
     "name": "stdout",
     "output_type": "stream",
     "text": [
      "0\n",
      "1\n",
      "2\n",
      "3\n",
      "4\n",
      "count value reached 5\n",
      "1\n",
      "2\n",
      "3\n",
      "4\n"
     ]
    }
   ],
   "source": [
    "count =0\n",
    "while(count<5):\n",
    "    print(count)\n",
    "    count+=1\n",
    "else:\n",
    "    print('count value reached', count)\n",
    "    \n",
    "for i in range(1,10):\n",
    "    if(i%5==0):\n",
    "        break\n",
    "    print(i)\n",
    "else:\n",
    "    print('this is not printed because for loop is terminated')"
   ]
  },
  {
   "cell_type": "code",
   "execution_count": 8,
   "id": "bd2a944f",
   "metadata": {},
   "outputs": [],
   "source": [
    "def list_benefits():\n",
    "    return ['greatness', 'success']"
   ]
  },
  {
   "cell_type": "code",
   "execution_count": 9,
   "id": "0db0f840",
   "metadata": {},
   "outputs": [],
   "source": [
    "def build_sentence(benefit):\n",
    "    return benefit + ' ' + 'i am a great man'"
   ]
  },
  {
   "cell_type": "code",
   "execution_count": 10,
   "id": "702034dd",
   "metadata": {},
   "outputs": [
    {
     "name": "stdout",
     "output_type": "stream",
     "text": [
      "greatness i am a great man\n",
      "success i am a great man\n"
     ]
    }
   ],
   "source": [
    "def name_bene_of_functions():\n",
    "    list_of_benefits = list_benefits()\n",
    "    for item in list_of_benefits:\n",
    "        print(build_sentence(item))\n",
    "        \n",
    "name_bene_of_functions()"
   ]
  },
  {
   "cell_type": "code",
   "execution_count": 11,
   "id": "48940a03",
   "metadata": {},
   "outputs": [
    {
     "name": "stdout",
     "output_type": "stream",
     "text": [
      "John\n",
      "Jack\n",
      "Jill\n"
     ]
    }
   ],
   "source": [
    "# dictionaries\n",
    "\n",
    "phonebook = {'John': 123434,\n",
    "            'Jack': 23435,\n",
    "            'Jill':390}\n",
    "for name,number in phonebook.items():\n",
    "    print(name)"
   ]
  },
  {
   "cell_type": "code",
   "execution_count": 12,
   "id": "9eda0de0",
   "metadata": {},
   "outputs": [
    {
     "data": {
      "text/plain": [
       "{'John': 123434, 'Jack': 23435}"
      ]
     },
     "execution_count": 12,
     "metadata": {},
     "output_type": "execute_result"
    }
   ],
   "source": [
    "phonebook.pop('Jill')\n",
    "phonebook"
   ]
  },
  {
   "cell_type": "code",
   "execution_count": 16,
   "id": "ad066931",
   "metadata": {},
   "outputs": [
    {
     "name": "stdout",
     "output_type": "stream",
     "text": [
      "Jake is listed in the phonebook\n",
      "Jill is not listed in the phonebook\n"
     ]
    }
   ],
   "source": [
    "# add Jake to the phonebook\n",
    "\n",
    "phonebook[\"Jake\"]=9389797\n",
    "phonebook\n",
    "\n",
    "if 'Jake'in phonebook:\n",
    "    print('Jake is listed in the phonebook')\n",
    "\n",
    "if 'Jill' not in phonebook:\n",
    "    print('Jill is not listed in the phonebook')"
   ]
  },
  {
   "cell_type": "code",
   "execution_count": 8,
   "id": "1fa4a4d4",
   "metadata": {},
   "outputs": [
    {
     "data": {
      "text/plain": [
       "6"
      ]
     },
     "execution_count": 8,
     "metadata": {},
     "output_type": "execute_result"
    }
   ],
   "source": [
    "# lambda\n",
    "\n",
    "a = 2\n",
    "b = 4\n",
    "sum = lambda a,b:a+b\n",
    "c= sum(a,b)\n",
    "c\n"
   ]
  },
  {
   "cell_type": "code",
   "execution_count": 13,
   "id": "a68ac71a",
   "metadata": {},
   "outputs": [
    {
     "name": "stdout",
     "output_type": "stream",
     "text": [
      "False\n",
      "False\n",
      "True\n",
      "True\n",
      "True\n",
      "True\n"
     ]
    }
   ],
   "source": [
    "l= [2,4,7,3,1,19]\n",
    "for i in l:\n",
    "    \n",
    "    my_lambda = lambda x: x%2 ==1\n",
    "    print(my_lambda(i))"
   ]
  }
 ],
 "metadata": {
  "kernelspec": {
   "display_name": "Python 3 (ipykernel)",
   "language": "python",
   "name": "python3"
  },
  "language_info": {
   "codemirror_mode": {
    "name": "ipython",
    "version": 3
   },
   "file_extension": ".py",
   "mimetype": "text/x-python",
   "name": "python",
   "nbconvert_exporter": "python",
   "pygments_lexer": "ipython3",
   "version": "3.9.13"
  }
 },
 "nbformat": 4,
 "nbformat_minor": 5
}
